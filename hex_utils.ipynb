{
 "cells": [
  {
   "cell_type": "markdown",
   "metadata": {},
   "source": [
    "# Read in hex strings\n",
    "'decoded' values are pulled straight from the boot sector image"
   ]
  },
  {
   "cell_type": "code",
   "execution_count": null,
   "metadata": {
    "collapsed": true
   },
   "outputs": [],
   "source": [
    "decoded_hex_strs = open('all_hex_values').read().split(' ')\n",
    "blank_space_hex_strs = open('blank_space_hex_values').read().split(' ')"
   ]
  },
  {
   "cell_type": "markdown",
   "metadata": {
    "collapsed": true
   },
   "source": [
    "# Encode/Decode utils\n",
    "\n",
    "- functions included for encoding/decoding hex strings\n",
    "- encoded and double-decoded values provided by default"
   ]
  },
  {
   "cell_type": "code",
   "execution_count": null,
   "metadata": {},
   "outputs": [],
   "source": [
    "hex_alph = ['0', '1', '2', '3', '4', '5', '6', '7', '8', '9', 'A', 'B', 'C', 'D', 'E', 'F']\n",
    "move_seq = [[1, 'l'], [1, 'l'], [2, 'l'], [3, 'r'], [5, 'l'], [8, 'r'], [13, 'l']]\n",
    "\n",
    "def update_index(old_index, move):\n",
    "    if move[1] == 'l':\n",
    "        return old_index - move[0]\n",
    "    else:\n",
    "        return old_index + move[0]\n",
    "\n",
    "def encode(hex_str):\n",
    "    ring_ind = 0\n",
    "    for hex_val, move in zip(hex_str, move_seq):\n",
    "        ring_ind = update_index(ring_ind, move)\n",
    "        coded_val = hex_alph[ (hex_alph.index(hex_val) + ring_ind) % len(hex_alph) ]\n",
    "        yield coded_val\n",
    "        \n",
    "def decode(hex_str):\n",
    "    ring_ind = 0\n",
    "    for hex_val, move in zip(hex_str, move_seq):\n",
    "        ring_ind = update_index(ring_ind, move)\n",
    "        coded_val = hex_alph[ (hex_alph.index(hex_val) - ring_ind) % len(hex_alph) ]\n",
    "        yield coded_val\n",
    "    \n",
    "encoded_hex_strs     = [list(encode(hex_str)) for hex_str in decoded_hex_strs]\n",
    "dbl_decoded_hex_strs = [list(decode(hex_str)) for hex_str in decoded_hex_strs]"
   ]
  },
  {
   "cell_type": "markdown",
   "metadata": {},
   "source": [
    "# Periodic table conversions\n",
    "\n",
    "Using insights from [u/TrialByDissonance's post](https://www.reddit.com/r/NoMansSkyTheGame/comments/6orsy9/waking_titan_megathread_phase_2_begins_edition/dkjzsoj/)"
   ]
  },
  {
   "cell_type": "code",
   "execution_count": null,
   "metadata": {},
   "outputs": [],
   "source": [
    "elems = {\n",
    "    '0': 'F',\n",
    "    '1': 'Na',\n",
    "    '2': 'Al',\n",
    "    '3': 'P',\n",
    "    # '0': 'Ne',\n",
    "    # '1': 'Mg',\n",
    "    # '2': 'Si',\n",
    "    # '3': 'S',\n",
    "    '4': 'Ti',\n",
    "    '5': 'Cr',\n",
    "    '6': 'Fe',\n",
    "    '7': 'Ni',\n",
    "    '8': 'Nb',\n",
    "    '9': 'Tc',\n",
    "    'A': 'Rh',\n",
    "    'B': 'Ag',\n",
    "    'C': 'W',\n",
    "    'D': 'Os',\n",
    "    'E': 'Pt',\n",
    "    'F': 'Hg',\n",
    "}\n",
    "\n",
    "elem_letters = {\n",
    "    '0': 'F',\n",
    "    '1': 'N',\n",
    "    '2': 'A',\n",
    "    '3': 'P',\n",
    "    # '0': 'N',\n",
    "    # '1': 'M',\n",
    "    # '2': 'S',\n",
    "    # '3': 'S',\n",
    "    '4': 'T',\n",
    "    '5': 'C',\n",
    "    '6': 'F',\n",
    "    '7': 'N',\n",
    "    '8': 'N',\n",
    "    '9': 'T',\n",
    "    'A': 'R',\n",
    "    'B': 'A',\n",
    "    'C': 'W',\n",
    "    'D': 'O',\n",
    "    'E': 'P',\n",
    "    'F': 'H',\n",
    "}\n",
    "\n",
    "elem_nums = {\n",
    "    '0': 9,\n",
    "    '1': 11,\n",
    "    '2': 13,\n",
    "    '3': 15,\n",
    "    # alternate vals\n",
    "    # '0': 10,\n",
    "    # '1': 12,\n",
    "    # '2': 14,\n",
    "    # '3': 16,\n",
    "    '4': 22,\n",
    "    '5': 24,\n",
    "    '6': 26,\n",
    "    '7': 28,\n",
    "    '8': 41,\n",
    "    '9': 43,\n",
    "    'A': 45,\n",
    "    'B': 47,\n",
    "    'C': 74,\n",
    "    'D': 76,\n",
    "    'E': 78,\n",
    "    'F': 80,\n",
    "}\n",
    "\n",
    "no_conversion = {\n",
    "    '0': '0',\n",
    "    '1': '1',\n",
    "    '2': '2',\n",
    "    '3': '3',\n",
    "    '4': '4',\n",
    "    '5': '5',\n",
    "    '6': '6',\n",
    "    '7': '7',\n",
    "    '8': '8',\n",
    "    '9': '9',\n",
    "    'A': 'A',\n",
    "    'B': 'B',\n",
    "    'C': 'C',\n",
    "    'D': 'D',\n",
    "    'E': 'E',\n",
    "    'F': 'F',\n",
    "}\n",
    "\n",
    "CONVERSION_DICT = elems # Possible values: elems, elem_nums, elem_letters, no_conversion\n",
    "OUTPUT_TYPE = 'string' # Possible values: 'string', 'list', None\n",
    "\n",
    "def convert(hex_str):\n",
    "    let_str = [CONVERSION_DICT[hex_val] for hex_val in hex_str]\n",
    "    if OUTPUT_TYPE == 'string':\n",
    "        print(''.join(let_str))\n",
    "    elif OUTPUT_TYPE == 'list':\n",
    "        print(let_str)\n",
    "    return let_str\n"
   ]
  },
  {
   "cell_type": "markdown",
   "metadata": {},
   "source": [
    "# Print converted strings"
   ]
  },
  {
   "cell_type": "code",
   "execution_count": null,
   "metadata": {},
   "outputs": [],
   "source": [
    "HEX_STRING_SOURCE = decoded_hex_strs # Possible values: decoded_hex_strs, encoded_hex_strs, dbl_decoded_hex_strs\n",
    "[convert(hex_str) for hex_str in encoded_hex_strs]\n",
    "\n",
    "print('Good luck :)')"
   ]
  }
 ],
 "metadata": {
  "kernelspec": {
   "display_name": "Python 3",
   "language": "python",
   "name": "python3"
  },
  "language_info": {
   "codemirror_mode": {
    "name": "ipython",
    "version": 3
   },
   "file_extension": ".py",
   "mimetype": "text/x-python",
   "name": "python",
   "nbconvert_exporter": "python",
   "pygments_lexer": "ipython3",
   "version": "3.5.3"
  }
 },
 "nbformat": 4,
 "nbformat_minor": 2
}
